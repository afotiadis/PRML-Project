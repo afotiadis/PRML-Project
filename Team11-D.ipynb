{
 "cells": [
  {
   "cell_type": "markdown",
   "id": "61765d4f-1a7f-48c2-870a-3592d2492f9a",
   "metadata": {},
   "source": [
    "# Εργασία - Αναγνώριση Προτύπων και Μηχανική Μάθηση, Μέρος Δ\n",
    "## Ομάδα 11\n",
    "**Παναγιώτης Μπελαντάκης**, AEM: 10305  \n",
    "**Αλέξανδρος Φωτιάδης**, AEM: 10392"
   ]
  },
  {
   "cell_type": "markdown",
   "id": "4a6f6b18-4d66-40a9-999b-3218d5c8b7ab",
   "metadata": {},
   "source": [
    "### Προεπεξεργασία δεδομένων"
   ]
  },
  {
   "cell_type": "code",
   "execution_count": 206,
   "id": "4203d4d7-8e71-4ef0-92bd-b812bc4c5284",
   "metadata": {},
   "outputs": [],
   "source": [
    "import pandas as pd\n",
    "import numpy as np\n",
    "from sklearn.model_selection import train_test_split,cross_val_score,GridSearchCV\n",
    "from sklearn.preprocessing import StandardScaler\n",
    "from sklearn.neural_network import MLPClassifier\n",
    "from sklearn.metrics import accuracy_score\n",
    "from sklearn.naive_bayes import GaussianNB\n",
    "from sklearn.linear_model import LogisticRegression\n",
    "from sklearn.neighbors import KNeighborsClassifier\n",
    "from sklearn.svm import SVC\n",
    "from sklearn.ensemble import RandomForestClassifier,BaggingClassifier\n",
    "from sklearn.decomposition import PCA,KernelPCA\n",
    "# Load the datasets\n",
    "#C:\\Users\\mpela\\Desktop\\HMMY\\9ο εξάμηνο\\Αναγνώριση Προτύπων\\ERGASIA\\\n",
    "#C:\\Users\\mpela\\Desktop\\HMMY\\9ο εξάμηνο\\Αναγνώριση Προτύπων\\ERGASIA\\\n",
    "train_path = \"datasetTV.csv\"\n",
    "test_path = \"datasetTest.csv\"\n",
    "datasetTV = pd.read_csv(train_path)\n",
    "datasetTest = pd.read_csv(test_path, header=None)\n",
    "\n",
    "# Separate features and labels in the training set\n",
    "X = datasetTV.iloc[:, :-1].values  # Features (all but the last column)\n",
    "y = datasetTV.iloc[:, -1].values   # Labels (last column)\n",
    "\n",
    "# Test set features\n",
    "X_test = datasetTest.values\n",
    "\n",
    "# Split the training set into training and validation set\n",
    "X_train, X_val, y_train, y_val = train_test_split(X, y, test_size=0.2, random_state=42)\n"
   ]
  },
  {
   "cell_type": "markdown",
   "id": "a617e47b-5362-4e8a-a7ea-09a9f5b694e3",
   "metadata": {},
   "source": [
    "### Δοκιμή διαφόρων classifiers χωρίς hyperparameter tuning"
   ]
  },
  {
   "cell_type": "code",
   "execution_count": 209,
   "id": "73346305-aed1-45d3-86ab-78f290a54956",
   "metadata": {},
   "outputs": [
    {
     "name": "stdout",
     "output_type": "stream",
     "text": [
      "Naive Bayes Validation Accuracy without cross validation: 69.93%\n",
      "Neural Network Validation Accuracy without cross validation: 83.65%\n",
      "Logistic Regression Validation Accuracy without cross validation: 78.44%\n",
      "k-Nearest Neighbors Validation Accuracy without cross validation: 84.05%\n",
      "SVM Validation Accuracy without cross validation: 86.96%\n",
      "Random Forest Validation Accuracy without cross validation: 81.36%\n",
      "\n",
      "Naive_Bayes Cross-Validation Accuracy: 70.34%\n",
      "Neural_Network Cross-Validation Accuracy: 82.27%\n",
      "Logistic_Regression Cross-Validation Accuracy: 76.23%\n",
      "k-NN Cross-Validation Accuracy: 83.91%\n",
      "SVM Cross-Validation Accuracy: 85.86%\n",
      "Random_Forest Cross-Validation Accuracy: 80.19%\n",
      "Best Classifier: SVM with Accuracy: 85.86%\n"
     ]
    }
   ],
   "source": [
    "\"\"\"\n",
    "Applying the classifiers. They will be trained in the training set and their accuracy will be computed based on how well they perform in thw\n",
    "validation set\n",
    "\"\"\"\n",
    "\n",
    "# Naive Bayes Classifier\n",
    "nb_classifier = GaussianNB()\n",
    "nb_classifier.fit(X_train, y_train)\n",
    "y_val_pred_nb = nb_classifier.predict(X_val)\n",
    "nb_accuracy = accuracy_score(y_val, y_val_pred_nb)\n",
    "print(f\"Naive Bayes Validation Accuracy without cross validation: {nb_accuracy * 100:.2f}%\")\n",
    "\n",
    "# Neural Network Classifier\n",
    "nn_classifier = MLPClassifier(hidden_layer_sizes=(128, 64), max_iter=500, random_state=42)\n",
    "nn_classifier.fit(X_train, y_train)\n",
    "y_val_pred_nn = nn_classifier.predict(X_val)\n",
    "nn_accuracy = accuracy_score(y_val, y_val_pred_nn)\n",
    "print(f\"Neural Network Validation Accuracy without cross validation: {nn_accuracy * 100:.2f}%\")\n",
    "\n",
    "# Logistic Regression Classifier\n",
    "lr_classifier = LogisticRegression(max_iter=500, random_state=42)\n",
    "lr_classifier.fit(X_train, y_train)\n",
    "y_val_pred_lr = lr_classifier.predict(X_val)\n",
    "lr_accuracy = accuracy_score(y_val, y_val_pred_lr)\n",
    "print(f\"Logistic Regression Validation Accuracy without cross validation: {lr_accuracy * 100:.2f}%\")\n",
    "\n",
    "# k-Nearest Neighbors Classifier\n",
    "knn_classifier = KNeighborsClassifier(n_neighbors=5)\n",
    "knn_classifier.fit(X_train, y_train)\n",
    "y_val_pred_knn = knn_classifier.predict(X_val)\n",
    "knn_accuracy = accuracy_score(y_val, y_val_pred_knn)\n",
    "print(f\"k-Nearest Neighbors Validation Accuracy without cross validation: {knn_accuracy * 100:.2f}%\")\n",
    "\n",
    "# Support Vector Machine (SVM) Classifier\n",
    "svm_classifier = SVC(kernel='poly', random_state=42)\n",
    "svm_classifier.fit(X_train, y_train)\n",
    "y_val_pred_svm = svm_classifier.predict(X_val)\n",
    "svm_accuracy = accuracy_score(y_val, y_val_pred_svm)\n",
    "print(f\"SVM Validation Accuracy without cross validation: {svm_accuracy * 100:.2f}%\")\n",
    "\n",
    "# Random Forest Classifier\n",
    "rf_classifier = RandomForestClassifier(n_estimators=100, bootstrap=True, random_state=42)\n",
    "rf_classifier.fit(X_train, y_train)\n",
    "y_val_pred_rf = rf_classifier.predict(X_val)\n",
    "rf_accuracy = accuracy_score(y_val, y_val_pred_rf)\n",
    "print(f\"Random Forest Validation Accuracy without cross validation: {rf_accuracy * 100:.2f}%\\n\")\n",
    "\n",
    "\"\"\"\n",
    "Now, we will apply k-fold cross validation so than results are more reliable and realistic\n",
    "\"\"\"\n",
    "\n",
    "# Define classifiers\n",
    "classifiers = {\n",
    "    'Naive_Bayes': GaussianNB(),\n",
    "    'Neural_Network': MLPClassifier(hidden_layer_sizes=(128, 64), max_iter=500, random_state=42),\n",
    "    'Logistic_Regression': LogisticRegression(max_iter=500, random_state=42),\n",
    "    'k-NN': KNeighborsClassifier(n_neighbors=5),\n",
    "    'SVM': SVC(kernel='poly', random_state=42),\n",
    "    'Random_Forest': RandomForestClassifier(n_estimators=100, random_state=42,bootstrap=True)\n",
    "}\n",
    "\n",
    "# Perform k-fold cross-validation for each classifier using cross_val_score function\n",
    "cv = 3\n",
    "results = {}\n",
    "for name, clf in classifiers.items():\n",
    "    scores = cross_val_score(clf, X, y, cv=cv, scoring='accuracy')\n",
    "    results[name] = np.mean(scores)\n",
    "    print(f\"{name} Cross-Validation Accuracy: {np.mean(scores) * 100:.2f}%\")\n",
    "\n",
    "# Find and print the best-performing classifier\n",
    "best_classifier = max(results, key=results.get)\n",
    "print(f\"Best Classifier: {best_classifier} with Accuracy: {results[best_classifier] * 100:.2f}%\")"
   ]
  },
  {
   "cell_type": "markdown",
   "id": "8e6e8112-2e93-471f-8fd6-f3c10b1dd1b0",
   "metadata": {},
   "source": [
    "### Hyperparameter tuning στον SVM ταξινομητή"
   ]
  },
  {
   "cell_type": "code",
   "execution_count": 211,
   "id": "b25e766f-e07f-4c36-b01c-eb532320361b",
   "metadata": {},
   "outputs": [
    {
     "name": "stdout",
     "output_type": "stream",
     "text": [
      "SVM (RBF Kernel) Validation Accuracy after Grid Search: 86.74%\n",
      "{'C': 10, 'gamma': 'scale', 'kernel': 'rbf'}\n"
     ]
    }
   ],
   "source": [
    "# Support Vector Machine (SVM) Classifier with Grid Search\n",
    "svm_parameters = {\n",
    "    'C': [0.1, 1, 10, 100],\n",
    "    'gamma' : ['scale'],\n",
    "    'kernel': ['rbf']\n",
    "}\n",
    "\"\"\"\n",
    "NOTES:\n",
    "- gamma = 'scale': It adjusts the influence of each data point based on the dataset's scale.\n",
    "- kernel = 'rbf'. We tested it with both 'rbf' and 'poly'. The best result seemed to be with poly(86.56%). However, when we set the kernel\n",
    "equal to 'rbf' only, we get a slightly better accuracy(86.74%). The reason why we don't get the same result the first time with both kernels might be\n",
    "the cross-validation variability and since random state=42, we have reproducibility.\n",
    "\"\"\"\n",
    "svm_classifier = GridSearchCV(SVC(random_state=42), svm_parameters, cv=3, scoring='accuracy')\n",
    "svm_classifier.fit(X_train, y_train)\n",
    "\n",
    "# Best SVM model\n",
    "best_svm = svm_classifier.best_estimator_\n",
    "y_val_pred_svm = best_svm.predict(X_val)\n",
    "svm_accuracy = accuracy_score(y_val, y_val_pred_svm)\n",
    "print(f\"SVM (RBF Kernel) Validation Accuracy after Grid Search: {svm_accuracy * 100:.2f}%\")\n",
    "print(svm_classifier.best_params_)"
   ]
  },
  {
   "cell_type": "markdown",
   "id": "963e4786-0311-4157-9886-bdd721c7a5f6",
   "metadata": {},
   "source": [
    "### SVM με μείωση διάστασης(Kernel PCA)"
   ]
  },
  {
   "cell_type": "code",
   "execution_count": 214,
   "id": "bbfe15a1-ad70-46e7-b1ca-c6ce14995fa2",
   "metadata": {},
   "outputs": [
    {
     "name": "stdout",
     "output_type": "stream",
     "text": [
      "SVM with Kernel PCA Validation Accuracy: 87.99%\n"
     ]
    }
   ],
   "source": [
    "# Apply Kernel PCA for dimensionality reduction\n",
    "kpca = KernelPCA(kernel='rbf', n_components=100, random_state=42)\n",
    "X_kpca = kpca.fit_transform(X)\n",
    "X_test_kpca = kpca.transform(X_test)\n",
    "\n",
    "# Split the reduced training set into training and validation sets\n",
    "X_train, X_val, y_train, y_val = train_test_split(X_kpca, y, test_size=0.2, random_state=42)\n",
    "\n",
    "# SVM Classifier without Bagging\n",
    "svm_kpca_classifier = SVC(C=10, gamma='scale', kernel='rbf', random_state=42)\n",
    "svm_kpca_classifier.fit(X_train, y_train)\n",
    "y_val_pred_svm_kpca = svm_kpca_classifier.predict(X_val)\n",
    "svm_kpca_accuracy = accuracy_score(y_val, y_val_pred_svm_kpca)\n",
    "print(f\"SVM with Kernel PCA Validation Accuracy: {svm_kpca_accuracy * 100:.2f}%\")\n"
   ]
  },
  {
   "cell_type": "markdown",
   "id": "d1d0cbac-a64e-4800-96ee-093856442864",
   "metadata": {},
   "source": [
    "### SVM με μείωση διάστασης(PCA)"
   ]
  },
  {
   "cell_type": "code",
   "execution_count": 217,
   "id": "26b22a17-ff95-4ee3-9c3d-93dbef4f1b1c",
   "metadata": {},
   "outputs": [
    {
     "name": "stdout",
     "output_type": "stream",
     "text": [
      "SVM with Classic PCA Validation Accuracy: 88.56%\n"
     ]
    }
   ],
   "source": [
    "# Apply Classic PCA for dimensionality reduction\n",
    "pca = PCA(n_components=50, random_state=42)  # Adjust n_components as needed\n",
    "X_pca = pca.fit_transform(X)\n",
    "X_test_pca = pca.transform(X_test)\n",
    "\n",
    "# Split the reduced training set into training and validation sets\n",
    "X_train, X_val, y_train, y_val = train_test_split(X_pca, y, test_size=0.2, random_state=42)\n",
    "\n",
    "# SVM Classifier without Bagging\n",
    "svm_pca_classifier = SVC(C=10, gamma='scale', kernel='rbf', random_state=42)\n",
    "svm_pca_classifier.fit(X_train, y_train)\n",
    "y_val_pred_svm_pca = svm_pca_classifier.predict(X_val)\n",
    "svm_pca_accuracy = accuracy_score(y_val, y_val_pred_svm_pca)\n",
    "print(f\"SVM with Classic PCA Validation Accuracy: {svm_pca_accuracy * 100:.2f}%\")"
   ]
  },
  {
   "cell_type": "markdown",
   "id": "5c08eec7-3b09-46c9-8aaf-8fcd70d5f27b",
   "metadata": {},
   "source": [
    "### SVM με Bagging"
   ]
  },
  {
   "cell_type": "code",
   "execution_count": 225,
   "id": "ffa4d6fe-c07f-409d-bb87-3781e1212084",
   "metadata": {},
   "outputs": [
    {
     "name": "stdout",
     "output_type": "stream",
     "text": [
      "Bagging with SVM (No Dimensionality Reduction) Validation Accuracy: 88.05%\n"
     ]
    }
   ],
   "source": [
    "# SVM Classifier with Bagging (without dimensionality reduction)\n",
    "base_svm = SVC(C=10, gamma='scale', kernel='rbf', random_state=42)\n",
    "bagging_classifier = BaggingClassifier(base_svm, n_estimators=10, random_state=42)\n",
    "bagging_classifier.fit(X_train, y_train)\n",
    "y_val_pred_bagging = bagging_classifier.predict(X_val)\n",
    "bagging_accuracy = accuracy_score(y_val, y_val_pred_bagging)\n",
    "print(f\"Bagging with SVM (No Dimensionality Reduction) Validation Accuracy: {bagging_accuracy * 100:.2f}%\")"
   ]
  },
  {
   "cell_type": "markdown",
   "id": "3e1491fd-03a2-4e8f-a3a3-1fe607b7eae6",
   "metadata": {},
   "source": [
    "### SVM με PCA και Bagging"
   ]
  },
  {
   "cell_type": "code",
   "execution_count": 238,
   "id": "4fda4503-e241-412a-bba8-171b27e168db",
   "metadata": {},
   "outputs": [
    {
     "name": "stdout",
     "output_type": "stream",
     "text": [
      "Bagging with SVM Validation Accuracy: 89.02%\n"
     ]
    }
   ],
   "source": [
    "# Apply Kernel PCA for dimensionality reduction\n",
    "pca = PCA(n_components=50, random_state=42)\n",
    "X_pca = pca.fit_transform(X)\n",
    "X_test_pca = pca.transform(X_test)\n",
    "\n",
    "# Split the training set into training and validation sets\n",
    "X_train, X_val, y_train, y_val = train_test_split(X_pca, y, test_size=0.2, random_state=42)\n",
    "\n",
    "# SVM Classifier with Bagging\n",
    "base_svm = SVC(C=10, gamma='scale', kernel='rbf', random_state=42)\n",
    "bagging_classifier_pca = BaggingClassifier(estimator=base_svm, n_estimators=10, random_state=42)\n",
    "bagging_classifier_pca.fit(X_train, y_train)\n",
    "y_val_pred_bagging_pca = bagging_classifier_pca.predict(X_val)\n",
    "bagging_pca_accuracy = accuracy_score(y_val, y_val_pred_bagging_pca)\n",
    "print(f\"Bagging with SVM Validation Accuracy: {bagging_pca_accuracy * 100:.2f}%\")"
   ]
  },
  {
   "cell_type": "markdown",
   "id": "3e08fec3-d4d5-45dd-b314-46a4b7c427ba",
   "metadata": {},
   "source": [
    "### Προβλέψεις για το τελικό μοντέλo(SVM με PCA) στο test set"
   ]
  },
  {
   "cell_type": "code",
   "execution_count": 248,
   "id": "43bd96eb-60c1-40f0-accc-e89ce3e53b13",
   "metadata": {},
   "outputs": [
    {
     "name": "stdout",
     "output_type": "stream",
     "text": [
      "6955\n"
     ]
    }
   ],
   "source": [
    "# Predict on test set and save predictions\n",
    "y_test_pred_svm_pca = svm_pca_classifier.predict(X_test_pca)\n",
    "\n",
    "# Save predictions as an npy file with the name Labels11\n",
    "np.save('labels11.npy', y_test_pred_svm_pca)"
   ]
  },
  {
   "cell_type": "code",
   "execution_count": null,
   "id": "06d3845b-4c49-4bee-bc93-b11e29e916ff",
   "metadata": {},
   "outputs": [],
   "source": []
  }
 ],
 "metadata": {
  "kernelspec": {
   "display_name": "Python [conda env:base] *",
   "language": "python",
   "name": "conda-base-py"
  },
  "language_info": {
   "codemirror_mode": {
    "name": "ipython",
    "version": 3
   },
   "file_extension": ".py",
   "mimetype": "text/x-python",
   "name": "python",
   "nbconvert_exporter": "python",
   "pygments_lexer": "ipython3",
   "version": "3.12.7"
  }
 },
 "nbformat": 4,
 "nbformat_minor": 5
}
